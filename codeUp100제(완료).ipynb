{
  "nbformat": 4,
  "nbformat_minor": 0,
  "metadata": {
    "colab": {
      "name": "codeUp100제.ipynb",
      "provenance": [],
      "collapsed_sections": []
    },
    "kernelspec": {
      "name": "python3",
      "display_name": "Python 3"
    },
    "language_info": {
      "name": "python"
    }
  },
  "cells": [
    {
      "cell_type": "code",
      "execution_count": null,
      "metadata": {
        "colab": {
          "base_uri": "https://localhost:8080/"
        },
        "id": "2aZQ7VJyXE8n",
        "outputId": "aed44cfd-4cb2-4a15-f247-9a7a711c55ea"
      },
      "outputs": [
        {
          "output_type": "stream",
          "name": "stdout",
          "text": [
            "\"!@#$%^&*()'\n"
          ]
        }
      ],
      "source": [
        "#출력하기 06 \n",
        "print(\"\\\"!@#$%^&*()\\'\")"
      ]
    },
    {
      "cell_type": "code",
      "source": [
        "#출력하기 07 \n",
        "print(\"\\\"C:\\Download\\\\\\'hello\\'.py\\\"\")"
      ],
      "metadata": {
        "colab": {
          "base_uri": "https://localhost:8080/"
        },
        "id": "deOqYWY-XLK_",
        "outputId": "867d228a-4062-4105-bd4e-b346d43e874d"
      },
      "execution_count": null,
      "outputs": [
        {
          "output_type": "stream",
          "name": "stdout",
          "text": [
            "\"C:\\Download\\'hello'.py\"\n"
          ]
        }
      ]
    },
    {
      "cell_type": "code",
      "source": [
        "#출력하기 08\n",
        "print(\"print(\\\"Hello\\\\nWorld\\\")\")"
      ],
      "metadata": {
        "colab": {
          "base_uri": "https://localhost:8080/"
        },
        "id": "svtGuyQ1ZOjh",
        "outputId": "64a7eb5c-748f-42de-ae6b-ed94a9e8e5b8"
      },
      "execution_count": null,
      "outputs": [
        {
          "output_type": "stream",
          "name": "stdout",
          "text": [
            "print(\"Hello\\nWorld\")\n"
          ]
        }
      ]
    },
    {
      "cell_type": "code",
      "source": [
        "#[기초-입출력] 문자 1개 입력받아 그대로 출력하기\n",
        "print(input())"
      ],
      "metadata": {
        "colab": {
          "base_uri": "https://localhost:8080/"
        },
        "id": "D3WeGzxkaWWl",
        "outputId": "009997ce-95a3-4038-d8a6-758fb85d8951"
      },
      "execution_count": null,
      "outputs": [
        {
          "output_type": "stream",
          "name": "stdout",
          "text": [
            "a\n",
            "a\n"
          ]
        }
      ]
    },
    {
      "cell_type": "code",
      "source": [
        "#[기초-입출력] 정수 1개 입력받아 int로 변환하여 출력하기\n",
        "print(int(input()))"
      ],
      "metadata": {
        "colab": {
          "base_uri": "https://localhost:8080/"
        },
        "id": "U2oXsZtLasJk",
        "outputId": "8a9ec04f-feeb-4331-997d-0cc4947a2591"
      },
      "execution_count": null,
      "outputs": [
        {
          "output_type": "stream",
          "name": "stdout",
          "text": [
            "1\n",
            "1\n"
          ]
        }
      ]
    },
    {
      "cell_type": "code",
      "source": [
        "#[기초-입출력] 실수 1개 입력받아 변환하여 출력하기\n",
        "print(float(input()))"
      ],
      "metadata": {
        "colab": {
          "base_uri": "https://localhost:8080/"
        },
        "id": "MeihuATca4mL",
        "outputId": "6cb60d12-f5a8-46ff-acdd-8fa25478a82a"
      },
      "execution_count": null,
      "outputs": [
        {
          "output_type": "stream",
          "name": "stdout",
          "text": [
            "3.14\n",
            "3.14\n"
          ]
        }
      ]
    },
    {
      "cell_type": "code",
      "source": [
        "#[기초-입출력] 정수 2개 입력받아 그대로 출력하기1\n",
        "print(input())\n",
        "print(input())"
      ],
      "metadata": {
        "id": "Uon_QpIlbGOV"
      },
      "execution_count": null,
      "outputs": []
    },
    {
      "cell_type": "code",
      "source": [
        "#[기초-입출력] 문자 2개 입력받아 순서 바꿔 출력하기1\n",
        "input_num1 = input()\n",
        "input_num2 = input()\n",
        "print(input_num2)\n",
        "print(input_num1)"
      ],
      "metadata": {
        "colab": {
          "base_uri": "https://localhost:8080/"
        },
        "id": "TSJflZ06cEUR",
        "outputId": "e789728d-efb9-4d33-c11f-91314988d3fb"
      },
      "execution_count": null,
      "outputs": [
        {
          "output_type": "stream",
          "name": "stdout",
          "text": [
            "a\n",
            "b\n",
            "b\n",
            "a\n"
          ]
        }
      ]
    },
    {
      "cell_type": "code",
      "source": [
        "#[기초-입출력] 실수 1개 입력받아 3번 출력하기\n",
        "input_num1 = float(input())\n",
        "for i in range(3):\n",
        "  print(input_num1)"
      ],
      "metadata": {
        "colab": {
          "base_uri": "https://localhost:8080/"
        },
        "id": "IFsrJOt7cEWM",
        "outputId": "74e2d96f-e71f-4c02-d0de-293d3705db52"
      },
      "execution_count": null,
      "outputs": [
        {
          "output_type": "stream",
          "name": "stdout",
          "text": [
            "0.1\n",
            "0.1\n",
            "0.1\n",
            "0.1\n"
          ]
        }
      ]
    },
    {
      "cell_type": "code",
      "source": [
        "#[기초-입출력] 정수 2개 입력받아 그대로 출력하기2\n",
        "num1,num2 = input().split()\n",
        "print(num1)\n",
        "print(num2)"
      ],
      "metadata": {
        "colab": {
          "base_uri": "https://localhost:8080/"
        },
        "id": "0IWSdi8ScEYt",
        "outputId": "566e4b5f-bdaa-4e95-ff4e-7a973c3a195b"
      },
      "execution_count": null,
      "outputs": [
        {
          "output_type": "stream",
          "name": "stdout",
          "text": [
            "1 2\n",
            "1\n",
            "2\n"
          ]
        }
      ]
    },
    {
      "cell_type": "code",
      "source": [
        "#[기초-입출력] 문자 2개 입력받아 순서 바꿔 출력하기2\n",
        "char_a,char_b = input().split()\n",
        "print(char_b)\n",
        "print(char_a)"
      ],
      "metadata": {
        "colab": {
          "base_uri": "https://localhost:8080/"
        },
        "id": "LILIBdkAcEbD",
        "outputId": "a4ddcd49-3b42-4fc6-a8f1-7a02a453c39d"
      },
      "execution_count": null,
      "outputs": [
        {
          "output_type": "stream",
          "name": "stdout",
          "text": [
            "a b\n",
            "b\n",
            "a\n"
          ]
        }
      ]
    },
    {
      "cell_type": "code",
      "source": [
        "#[기초-입출력] 문장 1개 입력받아 3번 출력하기\n",
        "s = input()\n",
        "print(s,s,s)"
      ],
      "metadata": {
        "colab": {
          "base_uri": "https://localhost:8080/"
        },
        "id": "Qf7bOuticEdg",
        "outputId": "ff9209f9-1cf3-4029-d5a5-62aa580311df"
      },
      "execution_count": null,
      "outputs": [
        {
          "output_type": "stream",
          "name": "stdout",
          "text": [
            "computer science\n",
            "computer science computer science computer science\n"
          ]
        }
      ]
    },
    {
      "cell_type": "code",
      "source": [
        "#[기초-입출력] 시간 입력받아 그대로 출력하기\n",
        "hour,time = input().split(':')\n",
        "print(hour,time,sep=':')"
      ],
      "metadata": {
        "colab": {
          "base_uri": "https://localhost:8080/"
        },
        "id": "IxtNuTg3dxGk",
        "outputId": "de9cc4a2-b82a-4068-d6dc-35f8edd4e4f3"
      },
      "execution_count": null,
      "outputs": [
        {
          "output_type": "stream",
          "name": "stdout",
          "text": [
            "3:16\n",
            "3:16\n"
          ]
        }
      ]
    },
    {
      "cell_type": "code",
      "source": [
        "#6019 : [기초-입출력] 연월일 입력받아 순서 바꿔 출력하기\n",
        "y,m,d = input().split(\".\")\n",
        "print(d,m,y,sep = '-')"
      ],
      "metadata": {
        "colab": {
          "base_uri": "https://localhost:8080/"
        },
        "id": "CgMf5E8edxI9",
        "outputId": "940c8995-686a-468e-c507-3adfe19995ed"
      },
      "execution_count": null,
      "outputs": [
        {
          "output_type": "stream",
          "name": "stdout",
          "text": [
            "2020.3.4\n",
            "4-3-2020\n"
          ]
        }
      ]
    },
    {
      "cell_type": "code",
      "source": [
        "#6020 : [기초-입출력] 주민번호 입력받아 형태 바꿔 출력하기\n",
        "front,back = input().split(\"-\")\n",
        "print(f\"{front}{back}\")"
      ],
      "metadata": {
        "colab": {
          "base_uri": "https://localhost:8080/"
        },
        "id": "7C1PjCMydxLQ",
        "outputId": "80ad287d-194e-431b-851e-c23d3863fe6c"
      },
      "execution_count": null,
      "outputs": [
        {
          "output_type": "stream",
          "name": "stdout",
          "text": [
            "000907-1121112\n",
            "0009071121112\n"
          ]
        }
      ]
    },
    {
      "cell_type": "code",
      "source": [
        "#6021 : [기초-입출력] 단어 1개 입력받아 나누어 출력하기\n",
        "string = input()\n",
        "for i in string:\n",
        "  print(i)"
      ],
      "metadata": {
        "colab": {
          "base_uri": "https://localhost:8080/"
        },
        "id": "4f0sFUwjdxNp",
        "outputId": "8472328f-dba0-4e65-864d-4040f63778bf"
      },
      "execution_count": null,
      "outputs": [
        {
          "output_type": "stream",
          "name": "stdout",
          "text": [
            "Hello\n",
            "H\n",
            "e\n",
            "l\n",
            "l\n",
            "o\n"
          ]
        }
      ]
    },
    {
      "cell_type": "code",
      "source": [
        "#6022 : [기초-입출력] 연월일 입력받아 나누어 출력하기\n",
        "s = input()\n",
        "print(s[0:2],s[2:4],s[4:])"
      ],
      "metadata": {
        "colab": {
          "base_uri": "https://localhost:8080/"
        },
        "id": "TGx12pQydxQM",
        "outputId": "3c8be9a2-52c8-483b-8ba2-9a77c1be6add"
      },
      "execution_count": null,
      "outputs": [
        {
          "output_type": "stream",
          "name": "stdout",
          "text": [
            "200304\n",
            "20 03 04\n"
          ]
        }
      ]
    },
    {
      "cell_type": "code",
      "source": [
        "#6023 : [기초-입출력] 시분초 입력받아 분만 출력하기\n",
        "h,m,s = input().split(\":\")\n",
        "print(m)"
      ],
      "metadata": {
        "colab": {
          "base_uri": "https://localhost:8080/"
        },
        "id": "jqXdtjc6dxSv",
        "outputId": "15ae1773-ea75-4891-f80c-dde32b41b609"
      },
      "execution_count": null,
      "outputs": [
        {
          "output_type": "stream",
          "name": "stdout",
          "text": [
            "17:23:57\n",
            "23\n"
          ]
        }
      ]
    },
    {
      "cell_type": "code",
      "source": [
        "#6024 : [기초-입출력] 단어 2개 입력받아 이어 붙이기\n",
        "w1,w2  = input().split()\n",
        "s = w1 + w2\n",
        "print(s)"
      ],
      "metadata": {
        "colab": {
          "base_uri": "https://localhost:8080/"
        },
        "id": "aCBuOD8ldxVi",
        "outputId": "b8f402d9-cbea-41f9-92a6-c19803164d16"
      },
      "execution_count": null,
      "outputs": [
        {
          "output_type": "stream",
          "name": "stdout",
          "text": [
            "hello world\n",
            "helloworld\n"
          ]
        }
      ]
    },
    {
      "cell_type": "code",
      "source": [
        "#6025 : [기초-값변환] 정수 2개 입력받아 합 계산하기\n",
        "a,b = input().split()\n",
        "c = int(a) + int(b)\n",
        "print(c)"
      ],
      "metadata": {
        "colab": {
          "base_uri": "https://localhost:8080/"
        },
        "id": "yXOrrAfrdxYE",
        "outputId": "9578df86-676b-4a42-db51-c93764dd3184"
      },
      "execution_count": null,
      "outputs": [
        {
          "output_type": "stream",
          "name": "stdout",
          "text": [
            "123 -123\n",
            "0\n"
          ]
        }
      ]
    },
    {
      "cell_type": "code",
      "source": [
        "#6026 : [기초-값변환] 실수 2개 입력받아 합 계산하기\n",
        "num1 = input()\n",
        "num2 = input()\n",
        "result = float(num1) + float(num2)\n",
        "print(result)"
      ],
      "metadata": {
        "colab": {
          "base_uri": "https://localhost:8080/"
        },
        "id": "IqOPa4DSdxax",
        "outputId": "fb5d0534-ce41-49b6-ecce-5d798c909a68"
      },
      "execution_count": null,
      "outputs": [
        {
          "output_type": "stream",
          "name": "stdout",
          "text": [
            "0.1\n",
            "0.9\n",
            "1.0\n"
          ]
        }
      ]
    },
    {
      "cell_type": "code",
      "source": [
        "#6027 : [기초-출력변환] 10진 정수 입력받아 16진수로 출력하기1\n",
        "a = input()\n",
        "n = int(a)\n",
        "print('%x'% n)\n",
        "#print('{}'.format(n))\n",
        "#%라는건 format과 같다고 생각하면 된다. "
      ],
      "metadata": {
        "colab": {
          "base_uri": "https://localhost:8080/"
        },
        "id": "HqBMPUue0mDs",
        "outputId": "b941435c-1d58-4e2e-b7a5-06917b1b43e3"
      },
      "execution_count": null,
      "outputs": [
        {
          "output_type": "stream",
          "name": "stdout",
          "text": [
            "255\n",
            "ff\n"
          ]
        }
      ]
    },
    {
      "cell_type": "code",
      "source": [
        "#6028 : [기초-출력변환] 10진 정수 입력받아 16진수로 출력하기2\n",
        "a = int(input())\n",
        "print('%X'% a)"
      ],
      "metadata": {
        "colab": {
          "base_uri": "https://localhost:8080/"
        },
        "id": "Z85G9Rrl0mGX",
        "outputId": "ab407d9d-ef11-4597-b1b2-c68052ef20e7"
      },
      "execution_count": null,
      "outputs": [
        {
          "output_type": "stream",
          "name": "stdout",
          "text": [
            "255\n",
            "FF\n"
          ]
        }
      ]
    },
    {
      "cell_type": "code",
      "source": [
        "#6029 : [기초-값변환] 16진 정수 입력받아 8진수로 출력하기\n",
        "a = input()\n",
        "n = int(a,16) #입력된 a를 16진수로 인식해 변수 n저장 \n",
        "print('%o'% n)"
      ],
      "metadata": {
        "colab": {
          "base_uri": "https://localhost:8080/"
        },
        "id": "4YWMSUg-0mI6",
        "outputId": "5595108e-a8e8-4944-9af6-9db8671bfede"
      },
      "execution_count": null,
      "outputs": [
        {
          "output_type": "stream",
          "name": "stdout",
          "text": [
            "f\n",
            "17\n"
          ]
        }
      ]
    },
    {
      "cell_type": "code",
      "source": [
        "#6030 : [기초-값변환] 영문자 1개 입력받아 10진수로 변환하기\n",
        "n = ord(input())\n",
        "#ord( ) 는 어떤 문자의 순서 위치(ordinal position) 값을 의미한다.  \n",
        "print(n)"
      ],
      "metadata": {
        "colab": {
          "base_uri": "https://localhost:8080/"
        },
        "id": "gN5WibzJ0mLj",
        "outputId": "708cc32c-a98e-440e-c852-2bb5db716a4b"
      },
      "execution_count": null,
      "outputs": [
        {
          "output_type": "stream",
          "name": "stdout",
          "text": [
            "A\n",
            "65\n"
          ]
        }
      ]
    },
    {
      "cell_type": "code",
      "source": [
        "#6031 : [기초-값변환] 정수 입력받아 유니코드 문자로 변환하기\n",
        "c = int(input())\n",
        "print(chr(c))"
      ],
      "metadata": {
        "colab": {
          "base_uri": "https://localhost:8080/"
        },
        "id": "g5z1YoxT0mN5",
        "outputId": "3f11f6ac-fc12-4b76-b9fe-a2902cdb7420"
      },
      "execution_count": null,
      "outputs": [
        {
          "output_type": "stream",
          "name": "stdout",
          "text": [
            "65\n",
            "A\n"
          ]
        }
      ]
    },
    {
      "cell_type": "code",
      "source": [
        "#6032 : [기초-산술연산] 정수 1개 입력받아 부호 바꾸기\n",
        "print(-(int(input())))"
      ],
      "metadata": {
        "colab": {
          "base_uri": "https://localhost:8080/"
        },
        "id": "tDQ37siX5jk0",
        "outputId": "f5162e6f-d72d-43d2-b284-4aec6f6aa46d"
      },
      "execution_count": null,
      "outputs": [
        {
          "output_type": "stream",
          "name": "stdout",
          "text": [
            "5\n",
            "-5\n"
          ]
        }
      ]
    },
    {
      "cell_type": "code",
      "source": [
        "#6033 : [기초-산술연산] 문자 1개 입력받아 다음 문자 출력하기\n",
        "n = ord(input())\n",
        "print(chr(n + 1))"
      ],
      "metadata": {
        "colab": {
          "base_uri": "https://localhost:8080/"
        },
        "id": "WBOIVsJO5jnL",
        "outputId": "d8502876-14e9-4696-d10b-d2e24389d198"
      },
      "execution_count": null,
      "outputs": [
        {
          "output_type": "stream",
          "name": "stdout",
          "text": [
            "a\n",
            "b\n"
          ]
        }
      ]
    },
    {
      "cell_type": "code",
      "source": [
        "#6034 : [기초-산술연산] 정수 2개 입력받아 차 계산하기\n",
        "a,b = input().split()\n",
        "print(int(a) - int(b))"
      ],
      "metadata": {
        "colab": {
          "base_uri": "https://localhost:8080/"
        },
        "id": "yM0PUVaI61cU",
        "outputId": "8f0892c8-234a-44bf-d395-d577d4ec1bb6"
      },
      "execution_count": null,
      "outputs": [
        {
          "output_type": "stream",
          "name": "stdout",
          "text": [
            "123 -123\n",
            "246\n"
          ]
        }
      ]
    },
    {
      "cell_type": "code",
      "source": [
        "#6035 : [기초-산술연산] 실수 2개 입력받아 곱 계산하기\n",
        "num1,num2 = input().split()\n",
        "print(float(num1) * float(num2))"
      ],
      "metadata": {
        "colab": {
          "base_uri": "https://localhost:8080/"
        },
        "id": "Iy6ms1-f61lp",
        "outputId": "e2557001-a813-414d-b9d7-910f6b198617"
      },
      "execution_count": null,
      "outputs": [
        {
          "output_type": "stream",
          "name": "stdout",
          "text": [
            "0.5 2.0\n",
            "1.0\n"
          ]
        }
      ]
    },
    {
      "cell_type": "code",
      "source": [
        "#6036 : [기초-산술연산] 단어 여러 번 출력하기\n",
        "w,n = input().split()\n",
        "print(w * int(n))"
      ],
      "metadata": {
        "colab": {
          "base_uri": "https://localhost:8080/"
        },
        "id": "Oc54nffb61oF",
        "outputId": "e752dea6-2d72-463b-e096-b45feded6355"
      },
      "execution_count": null,
      "outputs": [
        {
          "output_type": "stream",
          "name": "stdout",
          "text": [
            "love 3\n",
            "lovelovelove\n"
          ]
        }
      ]
    },
    {
      "cell_type": "code",
      "source": [
        "#6037 : [기초-산술연산] 문장 여러 번 출력하기\n",
        "n = int(input())\n",
        "s = input()\n",
        "print(n * s)"
      ],
      "metadata": {
        "colab": {
          "base_uri": "https://localhost:8080/"
        },
        "id": "Y0h-nKib61qT",
        "outputId": "a96149c6-5558-45c5-d90e-a88ef170012c"
      },
      "execution_count": null,
      "outputs": [
        {
          "output_type": "stream",
          "name": "stdout",
          "text": [
            "3\n",
            "I love cs\n",
            "I love csI love csI love cs\n"
          ]
        }
      ]
    },
    {
      "cell_type": "code",
      "source": [
        "#6038 : [기초-산술연산] 정수 2개 입력받아 거듭제곱 계산하기\n",
        "num1,num2 = input().split()\n",
        "print(int(num1) ** int(num2))"
      ],
      "metadata": {
        "colab": {
          "base_uri": "https://localhost:8080/"
        },
        "id": "8E5N8hmI9yTQ",
        "outputId": "db52dbe2-e389-41cf-f73a-ead27433c4ab"
      },
      "execution_count": null,
      "outputs": [
        {
          "output_type": "stream",
          "name": "stdout",
          "text": [
            "2 10\n",
            "1024\n"
          ]
        }
      ]
    },
    {
      "cell_type": "code",
      "source": [
        "#6039 : [기초-산술연산] 실수 2개 입력받아 거듭제곱 계산하기\n",
        "f_num1,f_num2 = input().split()\n",
        "print(float(f_num1) ** float(f_num2))"
      ],
      "metadata": {
        "colab": {
          "base_uri": "https://localhost:8080/"
        },
        "id": "jH2qVQdi9yVs",
        "outputId": "9e36c2b3-1579-4bba-967f-dfc3ed3ec747"
      },
      "execution_count": null,
      "outputs": [
        {
          "output_type": "stream",
          "name": "stdout",
          "text": [
            "4.0 2.0\n",
            "16.0\n"
          ]
        }
      ]
    },
    {
      "cell_type": "code",
      "source": [
        "#6040 : [기초-산술연산] 정수 2개 입력받아 나눈 몫 계산하기\n",
        "a,b = input().split()\n",
        "print(int(a) // int(b))"
      ],
      "metadata": {
        "colab": {
          "base_uri": "https://localhost:8080/"
        },
        "id": "W3y7nNdR9yYE",
        "outputId": "64ea5624-4829-4513-cb69-5de702105ce4"
      },
      "execution_count": null,
      "outputs": [
        {
          "output_type": "stream",
          "name": "stdout",
          "text": [
            "10 3\n",
            "3\n"
          ]
        }
      ]
    },
    {
      "cell_type": "code",
      "source": [
        "#6041 : [기초-산술연산] 정수 2개 입력받아 나눈 나머지 계산하기\n",
        "a,b = input().split()\n",
        "print(int(a) % int(b))"
      ],
      "metadata": {
        "colab": {
          "base_uri": "https://localhost:8080/"
        },
        "id": "z3m4YA4r61sw",
        "outputId": "eba05fdb-f1cd-4823-fafd-e7c36ac1f761"
      },
      "execution_count": null,
      "outputs": [
        {
          "output_type": "stream",
          "name": "stdout",
          "text": [
            "10 3\n",
            "1\n"
          ]
        }
      ]
    },
    {
      "cell_type": "code",
      "source": [
        "#6042 : [기초-값변환] 실수 1개 입력받아 소숫점이하 자리 변환하기\n",
        "a = float(input())\n",
        "print(format(a,\".2f\"))"
      ],
      "metadata": {
        "colab": {
          "base_uri": "https://localhost:8080/"
        },
        "id": "p_qxXjpD5jpf",
        "outputId": "b8a2099e-e5ac-44ae-e2db-b7b7f81271de"
      },
      "execution_count": null,
      "outputs": [
        {
          "output_type": "stream",
          "name": "stdout",
          "text": [
            "3.141592\n",
            "3.14\n"
          ]
        }
      ]
    },
    {
      "cell_type": "code",
      "source": [
        "#6043 : [기초-산술연산] 실수 2개 입력받아 나눈 결과계산하기\n",
        "a,b = input().split()\n",
        "print(format(float(a) / float(b),\".3f\"))"
      ],
      "metadata": {
        "colab": {
          "base_uri": "https://localhost:8080/"
        },
        "id": "n3l9MV555jrw",
        "outputId": "d1184043-aca7-43e6-a99a-6302c3295713"
      },
      "execution_count": null,
      "outputs": [
        {
          "output_type": "stream",
          "name": "stdout",
          "text": [
            "10.0 3.0\n",
            "3.333\n"
          ]
        }
      ]
    },
    {
      "cell_type": "code",
      "source": [
        "#6044 : [기초-산술연산] 정수 2개 입력받아 자동 계산하기\n",
        "a,b = input().split()\n",
        "a = int(a)\n",
        "b = int(b)\n",
        "print(a + b)\n",
        "print(a - b)\n",
        "print(a * b)\n",
        "print(a // b)\n",
        "print(a % b)\n",
        "print(format(a / b,\".2f\"))"
      ],
      "metadata": {
        "colab": {
          "base_uri": "https://localhost:8080/"
        },
        "id": "FMImIdH25juL",
        "outputId": "6a40d33a-965e-4af8-834f-d54080f295ad"
      },
      "execution_count": null,
      "outputs": [
        {
          "output_type": "stream",
          "name": "stdout",
          "text": [
            "10 3\n",
            "13\n",
            "7\n",
            "30\n",
            "3\n",
            "1\n",
            "3.33\n"
          ]
        }
      ]
    },
    {
      "cell_type": "code",
      "source": [
        "#6045 : [기초-산술연산] 정수 3개 입력받아 합과 평균\n",
        "a,b,c = input().split()\n",
        "sum = int(a) + int(b) + int(c)\n",
        "print(sum , format(sum / 3,\".2f\"))"
      ],
      "metadata": {
        "colab": {
          "base_uri": "https://localhost:8080/"
        },
        "id": "Ey6QEXCJ5jwV",
        "outputId": "435688ab-8c16-4633-b8ed-6b3185063ad1"
      },
      "execution_count": null,
      "outputs": [
        {
          "output_type": "stream",
          "name": "stdout",
          "text": [
            "1 2 3\n",
            "6 2.00\n"
          ]
        }
      ]
    },
    {
      "cell_type": "code",
      "source": [
        "#6046 : [기초-비트시프트연산] 정수 1개 입력받아 2배 곱해 출력하기\n",
        "a = int(input())\n",
        "print(a << 1)\n",
        "# >>1 절반으로 나누어줌 "
      ],
      "metadata": {
        "colab": {
          "base_uri": "https://localhost:8080/"
        },
        "id": "sdFm9vZp8fDB",
        "outputId": "5e3c51ea-f60e-4c90-feae-6aa3af8ce4a8"
      },
      "execution_count": null,
      "outputs": [
        {
          "output_type": "stream",
          "name": "stdout",
          "text": [
            "1024\n",
            "2048\n"
          ]
        }
      ]
    },
    {
      "cell_type": "code",
      "source": [
        "#6047 : [기초-비트시프트연산] 2의 거듭제곱 배로 곱해 출력하기\n",
        "a ,b = input().split()\n",
        "print(int(a) << int(b))"
      ],
      "metadata": {
        "colab": {
          "base_uri": "https://localhost:8080/"
        },
        "id": "7var3bUn8fFZ",
        "outputId": "7b792cee-def9-4da3-a211-bc704fbe71e6"
      },
      "execution_count": null,
      "outputs": [
        {
          "output_type": "stream",
          "name": "stdout",
          "text": [
            "1 3\n",
            "8\n"
          ]
        }
      ]
    },
    {
      "cell_type": "code",
      "source": [
        "#6048 : [기초-비교연산] 정수 2개 입력받아 비교하기1\n",
        "a,b = input().split()\n",
        "print(int(a) < int(b))"
      ],
      "metadata": {
        "colab": {
          "base_uri": "https://localhost:8080/"
        },
        "id": "bHuK40OZ8fHv",
        "outputId": "19276547-6bfb-4dd7-e79b-a3878851ba2c"
      },
      "execution_count": null,
      "outputs": [
        {
          "output_type": "stream",
          "name": "stdout",
          "text": [
            "10 3\n",
            "False\n"
          ]
        }
      ]
    },
    {
      "cell_type": "code",
      "source": [
        "#6049 : [기초-비교연산] 정수 2개 입력받아 비교하기2\n",
        "a,b = input().split()\n",
        "print(int(a) == int(b))"
      ],
      "metadata": {
        "colab": {
          "base_uri": "https://localhost:8080/"
        },
        "id": "UIX4u4rr8fKA",
        "outputId": "7bcb14a5-182d-4c7f-e482-429a4f3ac467"
      },
      "execution_count": null,
      "outputs": [
        {
          "output_type": "stream",
          "name": "stdout",
          "text": [
            "10 0\n",
            "False\n"
          ]
        }
      ]
    },
    {
      "cell_type": "code",
      "source": [
        "#6050 : [기초-비교연산] 정수 2개 입력받아 비교하기3\n",
        "a,b = input().split()\n",
        "print(int(a) <= int(b))"
      ],
      "metadata": {
        "colab": {
          "base_uri": "https://localhost:8080/"
        },
        "id": "uLTQLVVs8fMG",
        "outputId": "a4edbced-7669-4a8c-d7f9-2d02326af4e4"
      },
      "execution_count": null,
      "outputs": [
        {
          "output_type": "stream",
          "name": "stdout",
          "text": [
            "5 3\n",
            "False\n"
          ]
        }
      ]
    },
    {
      "cell_type": "code",
      "source": [
        "#6051 : [기초-비교연산] 정수 2개 입력받아 비교하기4\n",
        "a,b = input().split()\n",
        "print(int(a) != int(b))"
      ],
      "metadata": {
        "colab": {
          "base_uri": "https://localhost:8080/"
        },
        "id": "rXKpu8YwW5qb",
        "outputId": "8df6e33d-75b4-4b56-9459-cfd52b27d466"
      },
      "execution_count": null,
      "outputs": [
        {
          "output_type": "stream",
          "name": "stdout",
          "text": [
            "5 3\n",
            "True\n"
          ]
        }
      ]
    },
    {
      "cell_type": "code",
      "source": [
        "#6052 : [기초-논리연산] 정수 입력받아 참 거짓 평가하기\n",
        "# 참고\n",
        "# bool( ) 을 이용하면 입력된 식이나 값을 평가해 불 형의 값(True 또는 False)을 출력해준다.\n",
        "# 식이나 값을 계산해서 결과값이 만들어지는 것을 평가(evaluate)라고 한다. \n",
        "\n",
        "# python 언어에서 정수값 0은 False(거짓)로 평가되고, 그 외의 값들은 모두 True(참)로 평가된다.\n",
        "# ** 불 대수(boolean algebra)는 수학자 불이 만들어낸 것으로 True(참)/False(거짓) 값만 가지는 논리값과 그 값들 사이의 연산을 다룬다.\n",
        "n = int(input())\n",
        "print(bool(n))"
      ],
      "metadata": {
        "colab": {
          "base_uri": "https://localhost:8080/"
        },
        "id": "RtAGDmxUW5tQ",
        "outputId": "1338b545-34ac-471d-f3f9-f3ffa73d8517"
      },
      "execution_count": null,
      "outputs": [
        {
          "output_type": "stream",
          "name": "stdout",
          "text": [
            "0\n",
            "False\n"
          ]
        }
      ]
    },
    {
      "cell_type": "code",
      "source": [
        "#6053 : [기초-논리연산] 참 거짓 바꾸기\n",
        "a = bool(int(input()))\n",
        "print(not a)"
      ],
      "metadata": {
        "colab": {
          "base_uri": "https://localhost:8080/"
        },
        "id": "8PMbGrf4W5vl",
        "outputId": "355c732c-ba35-47c6-de5a-025a58763252"
      },
      "execution_count": null,
      "outputs": [
        {
          "output_type": "stream",
          "name": "stdout",
          "text": [
            "1\n",
            "False\n"
          ]
        }
      ]
    },
    {
      "cell_type": "code",
      "source": [
        "#6054 : [기초-논리연산] 둘 다 참일 경우만 참 출력하기\n",
        "a,b = input().split()\n",
        "print(bool(int(a)) and bool(int(b)))"
      ],
      "metadata": {
        "colab": {
          "base_uri": "https://localhost:8080/"
        },
        "id": "2gBwCB3tW5yX",
        "outputId": "ee60aee1-51d1-4a94-fc28-dca4b337fc3c"
      },
      "execution_count": null,
      "outputs": [
        {
          "output_type": "stream",
          "name": "stdout",
          "text": [
            "1 3\n",
            "True\n"
          ]
        }
      ]
    },
    {
      "cell_type": "code",
      "source": [
        "#6055 : [기초-논리연산] 하나라도 참이면 참 출력하기\n",
        "a,b = input().split()\n",
        "print(bool(int(a)) or bool(int(b)))"
      ],
      "metadata": {
        "colab": {
          "base_uri": "https://localhost:8080/"
        },
        "id": "tp8JqDD0W51O",
        "outputId": "890285b5-981d-4a47-b57b-87b557ea7513"
      },
      "execution_count": null,
      "outputs": [
        {
          "output_type": "stream",
          "name": "stdout",
          "text": [
            "1 1\n",
            "True\n"
          ]
        }
      ]
    },
    {
      "cell_type": "code",
      "source": [
        "#6056 : [기초-논리연산] 참/거짓이 서로 다를 때에만 참 출력하기\n",
        "c,d = input().split()\n",
        "c = bool(int(c))\n",
        "d = bool(int(d))\n",
        "print((c and not d) or (not c and d))"
      ],
      "metadata": {
        "colab": {
          "base_uri": "https://localhost:8080/"
        },
        "id": "Vqy17rZYW533",
        "outputId": "ce2f3054-4f3c-44be-c99b-787f04bc8490"
      },
      "execution_count": null,
      "outputs": [
        {
          "output_type": "stream",
          "name": "stdout",
          "text": [
            "1 1\n",
            "False\n"
          ]
        }
      ]
    },
    {
      "cell_type": "code",
      "source": [
        "#6057 : [기초-논리연산] 참/거짓이 서로 같을 때에만 참 출력하기\n",
        "c,d = input().split()\n",
        "c = bool(int(c))\n",
        "d = bool(int(d))\n",
        "print((c and d) or (not c and not d))"
      ],
      "metadata": {
        "colab": {
          "base_uri": "https://localhost:8080/"
        },
        "id": "hMcAufDbW56f",
        "outputId": "99bb7068-4044-4548-b835-818be030d30d"
      },
      "execution_count": null,
      "outputs": [
        {
          "output_type": "stream",
          "name": "stdout",
          "text": [
            "1 0\n",
            "False\n"
          ]
        }
      ]
    },
    {
      "cell_type": "code",
      "source": [
        "#6058 : [기초-논리연산] 둘 다 거짓일 경우만 참 출력하기\n",
        "c,d = input().split()\n",
        "c = bool(int(c))\n",
        "d = bool(int(d))\n",
        "print((not c and not d))"
      ],
      "metadata": {
        "colab": {
          "base_uri": "https://localhost:8080/"
        },
        "id": "Whs8nO3sW59A",
        "outputId": "67da1d1a-ba89-4027-cfc7-f4bb4cb6cf2d"
      },
      "execution_count": null,
      "outputs": [
        {
          "output_type": "stream",
          "name": "stdout",
          "text": [
            "0 0\n",
            "True\n"
          ]
        }
      ]
    },
    {
      "cell_type": "code",
      "source": [
        "#6059 : [기초-비트단위논리연산] 비트단위로 NOT 하여 출력하기\n",
        "a = int(input())\n",
        "print(~a)"
      ],
      "metadata": {
        "colab": {
          "base_uri": "https://localhost:8080/"
        },
        "id": "cmXPbSz-ZgdN",
        "outputId": "3fc0763f-41a4-43ff-c140-680ba28ce664"
      },
      "execution_count": null,
      "outputs": [
        {
          "output_type": "stream",
          "name": "stdout",
          "text": [
            "2\n",
            "-3\n"
          ]
        }
      ]
    },
    {
      "cell_type": "code",
      "source": [
        "#6060 : [기초-비트단위논리연산] 비트단위로 AND 하여 출력하기\n",
        "a,b = input().split()\n",
        "print(int(a) & int(b))"
      ],
      "metadata": {
        "colab": {
          "base_uri": "https://localhost:8080/"
        },
        "id": "fnfe0Vd2Zgf6",
        "outputId": "c667b466-ea9c-49ca-81f7-08aa55c15775"
      },
      "execution_count": null,
      "outputs": [
        {
          "output_type": "stream",
          "name": "stdout",
          "text": [
            "3 5\n",
            "1\n"
          ]
        }
      ]
    },
    {
      "cell_type": "code",
      "source": [
        "#6061 : [기초-비트단위논리연산] 비트단위로 OR 하여 출력하기\n",
        "a,b = input().split()\n",
        "print(int(a) | int(b))"
      ],
      "metadata": {
        "id": "Q_ZGv0z6Zgig",
        "colab": {
          "base_uri": "https://localhost:8080/"
        },
        "outputId": "62fa6b62-cd44-4d90-b74d-f1d1ab435864"
      },
      "execution_count": null,
      "outputs": [
        {
          "output_type": "stream",
          "name": "stdout",
          "text": [
            "3 5\n",
            "7\n"
          ]
        }
      ]
    },
    {
      "cell_type": "code",
      "source": [
        "#6062 : [기초-비트단위논리연산] 비트단위로 XOR 하여 출력하기\n",
        "a,b = input().split()\n",
        "print(int(a) ^ int(b))"
      ],
      "metadata": {
        "id": "Kq944HIIZgk-",
        "colab": {
          "base_uri": "https://localhost:8080/"
        },
        "outputId": "981ab2f9-7baf-46ef-b70d-bd3b9694a605"
      },
      "execution_count": null,
      "outputs": [
        {
          "output_type": "stream",
          "name": "stdout",
          "text": [
            "3 5\n",
            "6\n"
          ]
        }
      ]
    },
    {
      "cell_type": "code",
      "source": [
        "#6063 : [기초-3항연산] 정수 2개 입력받아 큰 값 출력하기\n",
        "a,b  =input().split()\n",
        "a = int(a)\n",
        "b = int(b)\n",
        "c = (a if (a>= b) else b)\n",
        "print(int(c))"
      ],
      "metadata": {
        "id": "u7AxCMnpZgnP",
        "colab": {
          "base_uri": "https://localhost:8080/"
        },
        "outputId": "5dff0dd1-428f-4c62-efa7-9b8ae6051d75"
      },
      "execution_count": null,
      "outputs": [
        {
          "output_type": "stream",
          "name": "stdout",
          "text": [
            "123 456\n",
            "456\n"
          ]
        }
      ]
    },
    {
      "cell_type": "code",
      "source": [
        "#6064 : [기초-3항연산] 정수 3개 입력받아 가장 작은 값 출력하기\n",
        "a,b,c = input().split()\n",
        "a = int(a)\n",
        "b = int(b)\n",
        "c = int(c)\n",
        "print((a if (a <= b) else b) if ((a if a <= b else b) <= c) else c)\n",
        "\n"
      ],
      "metadata": {
        "id": "Ds-gWbGOW5_h",
        "colab": {
          "base_uri": "https://localhost:8080/"
        },
        "outputId": "fe9b38d4-439f-4107-f3d2-60309524a0b6"
      },
      "execution_count": null,
      "outputs": [
        {
          "output_type": "stream",
          "name": "stdout",
          "text": [
            "3 -1 5\n",
            "-1\n"
          ]
        }
      ]
    },
    {
      "cell_type": "code",
      "source": [
        "#6065 : [기초-조건/선택실행구조] 정수 3개 입력받아 짝수만 출력하기\n",
        "a,b,c = input().split()\n",
        "a = int(a)\n",
        "b = int(b)\n",
        "c = int(c)\n",
        "if a % 2 == 0:\n",
        "  print(a)\n",
        "if b % 2 == 0:\n",
        "  print(b)\n",
        "if c % 2 == 0:\n",
        "  print(c)\n"
      ],
      "metadata": {
        "colab": {
          "base_uri": "https://localhost:8080/"
        },
        "id": "QqBMU9SOjFhd",
        "outputId": "f581deaf-353e-4e9c-c0c4-62494ce575fe"
      },
      "execution_count": null,
      "outputs": [
        {
          "output_type": "stream",
          "name": "stdout",
          "text": [
            "1 2 4\n",
            "2\n",
            "4\n"
          ]
        }
      ]
    },
    {
      "cell_type": "code",
      "source": [
        "#6066 : [기초-조건/선택실행구조] 정수 3개 입력받아 짝/홀 출력하기\n",
        "a,b,c = input().split()\n",
        "a = int(a)\n",
        "b = int(b)\n",
        "c = int(c)\n",
        "\n",
        "if a % 2 == 0:\n",
        "  print(\"even\")\n",
        "else:\n",
        "  print(\"odd\")  \n",
        "if b % 2 == 0:\n",
        "  print(\"even\")\n",
        "else:\n",
        "  print(\"odd\") \n",
        "if c % 2 == 0:\n",
        "  print(\"even\")\n",
        "else:\n",
        "  print(\"odd\") "
      ],
      "metadata": {
        "colab": {
          "base_uri": "https://localhost:8080/"
        },
        "id": "bUP5AxdgkpyA",
        "outputId": "61dfc685-097c-46d9-fbbb-0dc4f1ad3b0e"
      },
      "execution_count": null,
      "outputs": [
        {
          "output_type": "stream",
          "name": "stdout",
          "text": [
            "1 2 8\n",
            "odd\n",
            "even\n",
            "even\n"
          ]
        }
      ]
    },
    {
      "cell_type": "code",
      "source": [
        "#6067 : [기초-조건/선택실행구조] 정수 1개 입력받아 분류하기\n",
        "n = int(input())\n",
        "\n",
        "if n < 0:\n",
        "  if n % 2 == 0:\n",
        "    print('A')\n",
        "  else:\n",
        "    print('B')\n",
        "else:\n",
        "  if n % 2 == 0:\n",
        "    print('C')\n",
        "  else:\n",
        "    print('D')  \n"
      ],
      "metadata": {
        "colab": {
          "base_uri": "https://localhost:8080/"
        },
        "id": "MXx4TZuYlAni",
        "outputId": "27c0c528-648a-4015-a569-1a83d9a51d4d"
      },
      "execution_count": null,
      "outputs": [
        {
          "output_type": "stream",
          "name": "stdout",
          "text": [
            "5\n",
            "D\n"
          ]
        }
      ]
    },
    {
      "cell_type": "code",
      "source": [
        "#6068 : [기초-조건/선택실행구조] 점수 입력받아 평가 출력하기\n",
        "score = int(input())\n",
        "if score >= 90:\n",
        "  print('A')\n",
        "else:\n",
        "  if score >= 70:\n",
        "    print('B')\n",
        "  else:\n",
        "    if score >= 40:\n",
        "      print('C')\n",
        "    else:\n",
        "      print('D')  \n",
        "\n"
      ],
      "metadata": {
        "colab": {
          "base_uri": "https://localhost:8080/"
        },
        "id": "ufFgPgpSlmef",
        "outputId": "429a41d2-ca80-47ab-9029-75a5d25f9b4e"
      },
      "execution_count": null,
      "outputs": [
        {
          "output_type": "stream",
          "name": "stdout",
          "text": [
            "73\n",
            "B\n"
          ]
        }
      ]
    },
    {
      "cell_type": "code",
      "source": [
        "#6069 : [기초-조건/선택실행구조] 평가 입력받아 다르게 출력하기\n",
        "valuation = input()\n",
        "\n",
        "if valuation == 'A':\n",
        "  print('best!!!')\n",
        "else:\n",
        "  if valuation == 'B':\n",
        "    print('good!!')\n",
        "  else:\n",
        "    if valuation == 'C':\n",
        "      print('run!')\n",
        "    elif valuation == 'D':\n",
        "      print('slowly~')  \n",
        "    else:\n",
        "      print('what?')\n"
      ],
      "metadata": {
        "colab": {
          "base_uri": "https://localhost:8080/"
        },
        "id": "sXpC6aWbl_et",
        "outputId": "27f2fcc0-971e-492d-d421-a00c515d38bf"
      },
      "execution_count": null,
      "outputs": [
        {
          "output_type": "stream",
          "name": "stdout",
          "text": [
            "A\n",
            "best!!!\n"
          ]
        }
      ]
    },
    {
      "cell_type": "code",
      "source": [
        "#6070 : [기초-조건/선택실행구조] 월 입력받아 계절 출력하기\n",
        "\n",
        "month = int(input())\n",
        "\n",
        "if month >= 3 and month <= 5:\n",
        "  print('spring')\n",
        "elif month >= 6 and month <= 8:\n",
        "  print('summer')  \n",
        "elif month >= 9 and month <= 11:\n",
        "  print('fall')\n",
        "else:\n",
        "  print('winter')"
      ],
      "metadata": {
        "colab": {
          "base_uri": "https://localhost:8080/"
        },
        "id": "-DHn3eUUl_hO",
        "outputId": "5c117f36-a66e-4fc3-ea78-1b6452470d21"
      },
      "execution_count": null,
      "outputs": [
        {
          "output_type": "stream",
          "name": "stdout",
          "text": [
            "6\n",
            "summer\n"
          ]
        }
      ]
    },
    {
      "cell_type": "code",
      "source": [
        "#6071 : [기초-반복실행구조] 0 입력될 때까지 무한 출력하기\n",
        "number = 1\n",
        "\n",
        "while number != 0:\n",
        "  number = int(input())\n",
        "  if number != 0:\n",
        "    print(number)\n",
        "  \n"
      ],
      "metadata": {
        "id": "ToXixSpKl_jU",
        "colab": {
          "base_uri": "https://localhost:8080/"
        },
        "outputId": "bf4f556c-2d43-426a-e3af-2975b8ca2812"
      },
      "execution_count": null,
      "outputs": [
        {
          "name": "stdout",
          "output_type": "stream",
          "text": [
            "7\n",
            "7\n",
            "4\n",
            "4\n",
            "2\n",
            "2\n",
            "3\n",
            "3\n",
            "0\n"
          ]
        }
      ]
    },
    {
      "cell_type": "code",
      "source": [
        "#6072 : [기초-반복실행구조] 정수 1개 입력받아 카운트다운 출력하기1\n",
        "count = int(input())\n",
        "\n",
        "while count != 0:\n",
        "  print(count)\n",
        "  count = count - 1"
      ],
      "metadata": {
        "id": "sZx2PzxYl_lz",
        "colab": {
          "base_uri": "https://localhost:8080/"
        },
        "outputId": "7cd9e947-6c8e-4d2a-adbd-6d6669ed69b9"
      },
      "execution_count": null,
      "outputs": [
        {
          "output_type": "stream",
          "name": "stdout",
          "text": [
            "10\n",
            "10\n",
            "9\n",
            "8\n",
            "7\n",
            "6\n",
            "5\n",
            "4\n",
            "3\n",
            "2\n",
            "1\n"
          ]
        }
      ]
    },
    {
      "cell_type": "code",
      "source": [
        "#6073 : [기초-반복실행구조] 정수 1개 입력받아 카운트다운 출력하기2\n",
        "count = int(input())\n",
        "\n",
        "while count != 0:\n",
        "  count = count - 1\n",
        "  print(count)"
      ],
      "metadata": {
        "id": "8OHm8WCyl_oI",
        "colab": {
          "base_uri": "https://localhost:8080/"
        },
        "outputId": "13d344f6-f03b-4f6c-9a4c-176ba0cdea12"
      },
      "execution_count": null,
      "outputs": [
        {
          "output_type": "stream",
          "name": "stdout",
          "text": [
            "5\n",
            "4\n",
            "3\n",
            "2\n",
            "1\n",
            "0\n"
          ]
        }
      ]
    },
    {
      "cell_type": "code",
      "source": [
        "#6074 : [기초-반복실행구조] 문자 1개 입력받아 알파벳 출력하기\n",
        "\n",
        "c = ord(input())\n",
        "t = ord('a')\n",
        "\n",
        "while t <= c:\n",
        "  print(chr(t),end=' ')\n",
        "  t += 1\n"
      ],
      "metadata": {
        "id": "2-fq6zbFl_rP",
        "colab": {
          "base_uri": "https://localhost:8080/"
        },
        "outputId": "8a90f366-6ce4-43ad-8818-f58816fa58e5"
      },
      "execution_count": null,
      "outputs": [
        {
          "output_type": "stream",
          "name": "stdout",
          "text": [
            "f\n",
            "a b c d e f "
          ]
        }
      ]
    },
    {
      "cell_type": "code",
      "source": [
        "#6075 : [기초-반복실행구조] 정수 1개 입력받아 그 수까지 출력하기1\n",
        "number =int(input())\n",
        "\n",
        "for i in range(number+1):\n",
        "  print(i)\n",
        "\n"
      ],
      "metadata": {
        "id": "m58bu5qLohuO",
        "colab": {
          "base_uri": "https://localhost:8080/"
        },
        "outputId": "3fafef22-167d-44ad-c4ce-48a9e18a381e"
      },
      "execution_count": null,
      "outputs": [
        {
          "output_type": "stream",
          "name": "stdout",
          "text": [
            "4\n",
            "0\n",
            "1\n",
            "2\n",
            "3\n",
            "4\n"
          ]
        }
      ]
    },
    {
      "cell_type": "code",
      "source": [
        "#6076 : [기초-반복실행구조] 정수 1개 입력받아 그 수까지 출력하기2\n",
        "number =int(input())\n",
        "\n",
        "for i in range(number+1):\n",
        "  print(i)"
      ],
      "metadata": {
        "id": "wmjfzqRwohwx",
        "colab": {
          "base_uri": "https://localhost:8080/"
        },
        "outputId": "1e0d553c-08b7-4326-fedb-afdb81e8d89f"
      },
      "execution_count": null,
      "outputs": [
        {
          "output_type": "stream",
          "name": "stdout",
          "text": [
            "4\n",
            "0\n",
            "1\n",
            "2\n",
            "3\n",
            "4\n"
          ]
        }
      ]
    },
    {
      "cell_type": "code",
      "source": [
        "#6077 : [기초-종합] 짝수 합 구하기(설명)\n",
        "n = int(input())\n",
        "sum = 0\n",
        "\n",
        "for i in range(1,n+1):\n",
        "  if i % 2 == 0:\n",
        "    sum += i\n",
        "\n",
        "print(sum)    "
      ],
      "metadata": {
        "id": "SiAZbfreohzY",
        "colab": {
          "base_uri": "https://localhost:8080/"
        },
        "outputId": "feab573c-30b7-4d6b-ef24-57ee4a4a0257"
      },
      "execution_count": null,
      "outputs": [
        {
          "output_type": "stream",
          "name": "stdout",
          "text": [
            "5\n",
            "6\n"
          ]
        }
      ]
    },
    {
      "cell_type": "code",
      "source": [
        "#6078 : [기초-종합] 원하는 문자가 입력될 때까지 반복 출력하기\n",
        "c = 1\n",
        "\n",
        "while c != 0:\n",
        "  c = input()\n",
        "  if c == 'q':\n",
        "    print(c)\n",
        "    break\n",
        "  print(c)  "
      ],
      "metadata": {
        "id": "WVxsB-f_oh18",
        "colab": {
          "base_uri": "https://localhost:8080/"
        },
        "outputId": "bca361d5-1b16-4d14-d567-dd8152e8165b"
      },
      "execution_count": null,
      "outputs": [
        {
          "output_type": "stream",
          "name": "stdout",
          "text": [
            "q\n",
            "q\n"
          ]
        }
      ]
    },
    {
      "cell_type": "code",
      "source": [
        "#6079 : [기초-종합] 언제까지 더해야 할까?\n",
        "number = int(input())\n",
        "sum = 0\n",
        "for i in range(number + 1):\n",
        "  sum += i\n",
        "  if sum >= number:\n",
        "    print(i)\n",
        "    break"
      ],
      "metadata": {
        "id": "V7YEojHAoh4i",
        "colab": {
          "base_uri": "https://localhost:8080/"
        },
        "outputId": "baf95a71-91e5-4159-86d1-c058f9591e52"
      },
      "execution_count": null,
      "outputs": [
        {
          "output_type": "stream",
          "name": "stdout",
          "text": [
            "55\n",
            "10\n"
          ]
        }
      ]
    },
    {
      "cell_type": "code",
      "source": [
        "#6080 : [기초-종합] 주사위 2개 던지기\n",
        "#print(type(input().split()))\n",
        "n,m = map(int,input().split())\n",
        "for i in range(1,n+1):\n",
        "  for j in range(1,m+1):\n",
        "    print(i,j)"
      ],
      "metadata": {
        "id": "9IacJLTpoh6t",
        "colab": {
          "base_uri": "https://localhost:8080/"
        },
        "outputId": "943fce07-2e54-48f4-c554-695bdf0930f6"
      },
      "execution_count": 6,
      "outputs": [
        {
          "output_type": "stream",
          "name": "stdout",
          "text": [
            "2 3\n",
            "1 1\n",
            "1 2\n",
            "1 3\n",
            "2 1\n",
            "2 2\n",
            "2 3\n"
          ]
        }
      ]
    },
    {
      "cell_type": "code",
      "source": [
        "#6081 : [기초-종합] 16진수 구구단 출력하기\n",
        "a = input()\n",
        "n = int(a,16) #입력된 a를 16진수로 인식해 변수 n저장 \n",
        "\n",
        "for i in range(1,16):\n",
        "  print('%X'%n,'*%X'%i,'=%X'%(n*i),sep='')"
      ],
      "metadata": {
        "id": "HmyCgHzZuMSJ",
        "colab": {
          "base_uri": "https://localhost:8080/"
        },
        "outputId": "ed3d6cd8-6e20-4435-c5fd-ebd378297ef7"
      },
      "execution_count": 10,
      "outputs": [
        {
          "output_type": "stream",
          "name": "stdout",
          "text": [
            "B\n",
            "B*1=B\n",
            "B*2=16\n",
            "B*3=21\n",
            "B*4=2C\n",
            "B*5=37\n",
            "B*6=42\n",
            "B*7=4D\n",
            "B*8=58\n",
            "B*9=63\n",
            "B*A=6E\n",
            "B*B=79\n",
            "B*C=84\n",
            "B*D=8F\n",
            "B*E=9A\n",
            "B*F=A5\n"
          ]
        }
      ]
    },
    {
      "cell_type": "code",
      "source": [
        "#6082 : [기초-종합] 3 6 9 게임의 왕이 되자\n",
        "num = int(input())\n",
        "for i in range(1,num+1):\n",
        "  if i % 10 == 3:\n",
        "    print(\"X\",end=' ')\n",
        "  elif i % 10 == 6:\n",
        "    print(\"X\",end=' ')\n",
        "  elif i % 10 == 9:\n",
        "    print(\"X\",end=' ')    \n",
        "  else:\n",
        "    print(i,end=' ')  "
      ],
      "metadata": {
        "id": "uBZ_aukauMVa",
        "colab": {
          "base_uri": "https://localhost:8080/"
        },
        "outputId": "073fbc09-6f0a-4b39-ba08-cbc008892311"
      },
      "execution_count": 15,
      "outputs": [
        {
          "output_type": "stream",
          "name": "stdout",
          "text": [
            "9\n",
            "1 2 X 4 5 X 7 8 X "
          ]
        }
      ]
    },
    {
      "cell_type": "code",
      "source": [
        "#6083 : [기초-종합] 빛 섞어 색 만들기(설명)\n",
        "r,g,b = map(int,input().split())\n",
        "for i in range(r):\n",
        "  for j in range(g):\n",
        "    for k in range(b):\n",
        "      print(i,j,k,end=' \\n')\n",
        "print(r*g*b)\n",
        "      "
      ],
      "metadata": {
        "colab": {
          "base_uri": "https://localhost:8080/"
        },
        "id": "Pu6TGPIQ0WLm",
        "outputId": "e38f0457-a7ba-48e6-effa-ba430ab27682"
      },
      "execution_count": 23,
      "outputs": [
        {
          "output_type": "stream",
          "name": "stdout",
          "text": [
            "2 2 2\n",
            "0 0 0 \n",
            "0 0 1 \n",
            "0 1 0 \n",
            "0 1 1 \n",
            "1 0 0 \n",
            "1 0 1 \n",
            "1 1 0 \n",
            "1 1 1 \n",
            "8\n"
          ]
        }
      ]
    },
    {
      "cell_type": "code",
      "source": [
        "#6084 : [기초-종합] 소리 파일 저장용량 계산하기\n",
        "h,b,s,c = map(int,input().split())\n",
        "bit = ((h*b*s*c) / 8)\n",
        "result = ((bit / 1024)/ 1024)\n",
        "print(format(result,\".1f\"),\"MB\")"
      ],
      "metadata": {
        "colab": {
          "base_uri": "https://localhost:8080/"
        },
        "id": "sIhKb8uk1_Et",
        "outputId": "9455f24b-a79b-4246-bc6f-d603acc6340c"
      },
      "execution_count": 30,
      "outputs": [
        {
          "output_type": "stream",
          "name": "stdout",
          "text": [
            "44100 16 2 10\n",
            "1.7 MB\n"
          ]
        }
      ]
    },
    {
      "cell_type": "code",
      "source": [
        "#6085 : [기초-종합] 그림 파일 저장용량 계산하기\n",
        "w,h,b = map(int,input().split())\n",
        "bit = (w*h*b) / 8\n",
        "result = ((bit / 1024) / 1024)\n",
        "print(format(result,\".2f\"),\"MB\")"
      ],
      "metadata": {
        "colab": {
          "base_uri": "https://localhost:8080/"
        },
        "id": "WQmiZVZm0WOb",
        "outputId": "40c5ca4f-d0e0-4239-ec67-b9fae022390d"
      },
      "execution_count": 31,
      "outputs": [
        {
          "output_type": "stream",
          "name": "stdout",
          "text": [
            "1024 768 24\n",
            "2.25 MB\n"
          ]
        }
      ]
    },
    {
      "cell_type": "code",
      "source": [
        "#6086 : [기초-종합] 거기까지! 이제 그만~\n",
        "num = int(input())\n",
        "c = 0\n",
        "s = 0\n",
        "while True:\n",
        "  c += 1\n",
        "  s += c\n",
        "  if s >= num:\n",
        "    print(s)\n",
        "    break"
      ],
      "metadata": {
        "colab": {
          "base_uri": "https://localhost:8080/"
        },
        "id": "7ZJj4OPH0WRK",
        "outputId": "264aaf71-a275-45be-ba0a-3cad3c790a06"
      },
      "execution_count": 39,
      "outputs": [
        {
          "output_type": "stream",
          "name": "stdout",
          "text": [
            "57\n",
            "66\n"
          ]
        }
      ]
    },
    {
      "cell_type": "code",
      "source": [
        "#6087 : [기초-종합] 3의 배수는 통과\n",
        "num = int(input())\n",
        "\n",
        "for i in range(1,num + 1):\n",
        "  if i % 3 == 0:\n",
        "    continue\n",
        "  print(i,end=' ')  "
      ],
      "metadata": {
        "colab": {
          "base_uri": "https://localhost:8080/"
        },
        "id": "PYekG8Ht3Iiu",
        "outputId": "696e6cb6-3ca9-4c71-bc8e-e2a7c963dbb6"
      },
      "execution_count": 40,
      "outputs": [
        {
          "output_type": "stream",
          "name": "stdout",
          "text": [
            "10\n",
            "1 2 4 5 7 8 10 "
          ]
        }
      ]
    },
    {
      "cell_type": "code",
      "source": [
        "#6088 : [기초-종합] 수 나열하기1\n",
        "a,d,n = map(int,input().split())\n",
        "print(a + d * (n-1))\n"
      ],
      "metadata": {
        "colab": {
          "base_uri": "https://localhost:8080/"
        },
        "id": "CBKNozO73IlY",
        "outputId": "b4bda3ba-5d24-44a2-876d-5acb027428bf"
      },
      "execution_count": 41,
      "outputs": [
        {
          "output_type": "stream",
          "name": "stdout",
          "text": [
            "1 3 5\n",
            "13\n"
          ]
        }
      ]
    },
    {
      "cell_type": "code",
      "source": [
        "#6089 : [기초-종합] 수 나열하기2\n",
        "a,r,n = map(int,input().split())\n",
        "print(a * pow(r, n-1))"
      ],
      "metadata": {
        "colab": {
          "base_uri": "https://localhost:8080/"
        },
        "id": "CBE6kNmc3IoG",
        "outputId": "7a47bfc8-d829-4d53-8db2-1c0c58263384"
      },
      "execution_count": 43,
      "outputs": [
        {
          "output_type": "stream",
          "name": "stdout",
          "text": [
            "2 3 7\n",
            "1458\n"
          ]
        }
      ]
    },
    {
      "cell_type": "code",
      "source": [
        "#6090 : [기초-종합] 수 나열하기3\n",
        "a,m,d,n = map(int,input().split())\n",
        "\n",
        "for i in range(n-1):\n",
        "  a = (a * m) + d\n",
        "print(a)     "
      ],
      "metadata": {
        "colab": {
          "base_uri": "https://localhost:8080/"
        },
        "id": "W6tU50Wf3Iqh",
        "outputId": "85a4cebb-12fb-4403-a20b-7330b0c03468"
      },
      "execution_count": 45,
      "outputs": [
        {
          "output_type": "stream",
          "name": "stdout",
          "text": [
            "1 -2 1 8\n",
            "-85\n"
          ]
        }
      ]
    },
    {
      "cell_type": "code",
      "source": [
        "#6091 : [기초-종합] 함께 문제 푸는 날\n",
        "day = 1\n",
        "a,b,c = map(int,input().split())\n",
        "while day % a != 0 or  day % b != 0 or day % c != 0:\n",
        "  day += 1\n",
        "print(day)  "
      ],
      "metadata": {
        "colab": {
          "base_uri": "https://localhost:8080/"
        },
        "id": "rM9SIJkp0WTb",
        "outputId": "7f5be0d1-d86e-4f27-a442-93b9c24053ea"
      },
      "execution_count": 47,
      "outputs": [
        {
          "output_type": "stream",
          "name": "stdout",
          "text": [
            "3 7 9\n",
            "63\n"
          ]
        }
      ]
    },
    {
      "cell_type": "code",
      "source": [
        "#6092 : [기초-리스트] 이상한 출석 번호 부르기1\n",
        "n = int(input())\n",
        "a = input().split()\n",
        "\n",
        "for i in range(n):\n",
        "  a[i] = int(a[i])\n",
        "\n",
        "d = []\n",
        "for i in range(24):\n",
        "  d.append(0)\n",
        "\n",
        "for i in range(n):\n",
        "  d[a[i]] += 1\n",
        "\n",
        "for i in range(1,24):\n",
        "  print(d[i],end=' ')  \n"
      ],
      "metadata": {
        "id": "8tm-bC_uuMX-",
        "colab": {
          "base_uri": "https://localhost:8080/"
        },
        "outputId": "c36258a2-0b6a-47cd-99e6-c3fe9063fc4f"
      },
      "execution_count": 48,
      "outputs": [
        {
          "output_type": "stream",
          "name": "stdout",
          "text": [
            "10\n",
            "1 3 2 2 5 6 7 4 5 9\n",
            "1 2 1 1 2 1 1 0 1 0 0 0 0 0 0 0 0 0 0 0 0 0 0 "
          ]
        }
      ]
    },
    {
      "cell_type": "code",
      "source": [
        "#6093 : [기초-리스트] 이상한 출석 번호 부르기2\n",
        "n = int(input())\n",
        "a = list(map(int,input().split()))\n",
        "for i in list(reversed(a)):\n",
        "  print(i, end=' ')"
      ],
      "metadata": {
        "colab": {
          "base_uri": "https://localhost:8080/"
        },
        "id": "M2gv45RQxsvF",
        "outputId": "741bea3b-589b-462b-8634-ad32e1928186"
      },
      "execution_count": 56,
      "outputs": [
        {
          "output_type": "stream",
          "name": "stdout",
          "text": [
            "10\n",
            "10 4 2 3 6 6 7 9 8 5\n",
            "5 8 9 7 6 6 3 2 4 10 "
          ]
        }
      ]
    },
    {
      "cell_type": "code",
      "source": [
        "#6094 : [기초-리스트] 이상한 출석 번호 부르기3\n",
        "n = int(input())\n",
        "a = list(map(int,input().split()))\n",
        "a = sorted(a)\n",
        "print(a[0])"
      ],
      "metadata": {
        "colab": {
          "base_uri": "https://localhost:8080/"
        },
        "id": "kF_6dprhxsxo",
        "outputId": "4d9bfa5a-6bb8-4df7-d98f-c243b45df081"
      },
      "execution_count": 57,
      "outputs": [
        {
          "output_type": "stream",
          "name": "stdout",
          "text": [
            "10\n",
            "10 4 2 3 6 6 7 9 8 5\n",
            "2\n"
          ]
        }
      ]
    },
    {
      "cell_type": "code",
      "source": [
        "#6095 : [기초-리스트] 바둑판에 흰 돌 놓기\n",
        "d = []\n",
        "\n",
        "for i in range(20):\n",
        "  d.append([])\n",
        "  for j in range(20):\n",
        "    d[i].append(0)\n",
        "\n",
        "num = int(input())\n",
        "for i in range(num):\n",
        "  x,y = map(int,input().split())\n",
        "  d[x][y] = 1\n",
        "\n",
        "for i in range(1,20):\n",
        "  for j in range(1,20):\n",
        "    print(d[i][j], end=' ')\n",
        "  print()    "
      ],
      "metadata": {
        "colab": {
          "base_uri": "https://localhost:8080/"
        },
        "id": "_D17m5fQxs01",
        "outputId": "022b0855-a8a6-4cf1-c5e4-ee3e096df4b3"
      },
      "execution_count": 68,
      "outputs": [
        {
          "output_type": "stream",
          "name": "stdout",
          "text": [
            "5\n",
            "1 1\n",
            "2 2\n",
            "3 3\n",
            "4 4\n",
            "5 5\n",
            "1 0 0 0 0 0 0 0 0 0 0 0 0 0 0 0 0 0 0 \n",
            "0 1 0 0 0 0 0 0 0 0 0 0 0 0 0 0 0 0 0 \n",
            "0 0 1 0 0 0 0 0 0 0 0 0 0 0 0 0 0 0 0 \n",
            "0 0 0 1 0 0 0 0 0 0 0 0 0 0 0 0 0 0 0 \n",
            "0 0 0 0 1 0 0 0 0 0 0 0 0 0 0 0 0 0 0 \n",
            "0 0 0 0 0 0 0 0 0 0 0 0 0 0 0 0 0 0 0 \n",
            "0 0 0 0 0 0 0 0 0 0 0 0 0 0 0 0 0 0 0 \n",
            "0 0 0 0 0 0 0 0 0 0 0 0 0 0 0 0 0 0 0 \n",
            "0 0 0 0 0 0 0 0 0 0 0 0 0 0 0 0 0 0 0 \n",
            "0 0 0 0 0 0 0 0 0 0 0 0 0 0 0 0 0 0 0 \n",
            "0 0 0 0 0 0 0 0 0 0 0 0 0 0 0 0 0 0 0 \n",
            "0 0 0 0 0 0 0 0 0 0 0 0 0 0 0 0 0 0 0 \n",
            "0 0 0 0 0 0 0 0 0 0 0 0 0 0 0 0 0 0 0 \n",
            "0 0 0 0 0 0 0 0 0 0 0 0 0 0 0 0 0 0 0 \n",
            "0 0 0 0 0 0 0 0 0 0 0 0 0 0 0 0 0 0 0 \n",
            "0 0 0 0 0 0 0 0 0 0 0 0 0 0 0 0 0 0 0 \n",
            "0 0 0 0 0 0 0 0 0 0 0 0 0 0 0 0 0 0 0 \n",
            "0 0 0 0 0 0 0 0 0 0 0 0 0 0 0 0 0 0 0 \n",
            "0 0 0 0 0 0 0 0 0 0 0 0 0 0 0 0 0 0 0 \n"
          ]
        }
      ]
    },
    {
      "cell_type": "code",
      "source": [
        "#6096 : [기초-리스트] 바둑알 십자 뒤집기\n",
        "\n",
        "d = [list(map(int, input().split())) for _ in range(19)]                                                  \n",
        "num = int(input())\n",
        "\n",
        "for i in range(num):\n",
        "  x,y = map(int,input().split())\n",
        "  for j in range(19):\n",
        "    if d[j][y-1] == 0:\n",
        "      d[j][y-1] = 1\n",
        "    else:\n",
        "      d[j][y-1] = 0   \n",
        "\n",
        "    if d[x-1][j] == 0:\n",
        "      d[x-1][j] = 1\n",
        "    else:\n",
        "      d[x-1][j] = 0\n",
        "\n",
        "\n",
        "for i in range(19):\n",
        "  for j in range(19):\n",
        "    print(d[i][j],end=' ')\n",
        "  print()       "
      ],
      "metadata": {
        "colab": {
          "base_uri": "https://localhost:8080/"
        },
        "id": "SFzGmzl3xs22",
        "outputId": "67094005-5cb2-4e8d-ec4f-df869b5aa540"
      },
      "execution_count": 86,
      "outputs": [
        {
          "output_type": "stream",
          "name": "stdout",
          "text": [
            "0 0 0\n",
            "0 0 0\n",
            "0 0 0\n",
            "1\n",
            "1 1\n",
            "0 1 1 \n",
            "1 0 0 \n",
            "1 0 0 \n"
          ]
        }
      ]
    },
    {
      "cell_type": "code",
      "source": [
        "#6097 : [기초-리스트] 설탕과자 뽑기\n",
        "w,h = map(int,input().split())\n",
        "n = int(input())\n",
        "\n",
        "arr = []\n",
        "for i in range(w):\n",
        "  arr.append([])\n",
        "  for j in range(h):\n",
        "    arr[i].append(0)\n",
        "\n",
        "for _ in range(n):\n",
        "  l,d,x,y = map(int,input().split())\n",
        "  for i in range(l):\n",
        "    if d == 0: #방향 가로\n",
        "      arr[x-1][y-1] = 1\n",
        "      y = y + 1  \n",
        "    else:\n",
        "      arr[x-1][y-1] = 1\n",
        "      x = x + 1\n",
        "\n",
        "for i in range(w):\n",
        "  for j in range(h):\n",
        "    print(arr[i][j], end=' ')\n",
        "  print()        \n"
      ],
      "metadata": {
        "colab": {
          "base_uri": "https://localhost:8080/"
        },
        "id": "KjERUqiPxs5g",
        "outputId": "1cb0d01c-edae-4481-a644-755ea6bc4bdc"
      },
      "execution_count": 89,
      "outputs": [
        {
          "output_type": "stream",
          "name": "stdout",
          "text": [
            "5 5\n",
            "3\n",
            "2 0 1 1\n",
            "3 1 2 3\n",
            "4 1 2 5\n",
            "1 1 0 0 0 \n",
            "0 0 1 0 1 \n",
            "0 0 1 0 1 \n",
            "0 0 1 0 1 \n",
            "0 0 0 0 1 \n"
          ]
        }
      ]
    },
    {
      "cell_type": "code",
      "source": [
        "#6098 : [기초-리스트] 성실한 개미\n",
        "\n",
        "map = [list(map(int, input().split())) for _ in range(10)] \n",
        "\n",
        "init_x = 2\n",
        "init_y = 2\n",
        "map[init_x - 1][init_y - 1] = 9\n",
        "while (init_x != 9 and init_y != 9) or map[init_x-1][init_y-1] != 2:\n",
        "  map[init_x - 1][init_y - 1] = 9\n",
        "  if map[init_x-1][(init_y - 1) + 1] ==  1:\n",
        "   if map[(init_x-1) + 1][init_y - 1] == 1:\n",
        "     init_x += 1\n",
        "     break\n",
        "   elif map[(init_x-1) + 1][init_y - 1] == 0:\n",
        "     map[(init_x-1) + 1][init_y - 1] = 9\n",
        "     init_x += 1\n",
        "   else:\n",
        "     map[(init_x-1) + 1][init_y - 1] = 9\n",
        "     break\n",
        "  elif map[init_x-1][(init_y - 1) + 1] ==  0:\n",
        "    map[init_x-1][(init_y - 1) + 1] = 9\n",
        "    init_y += 1\n",
        "  else:\n",
        "    if map[init_x-1][(init_y - 1) + 1] == 2:\n",
        "      map[init_x-1][(init_y - 1) + 1] = 9\n",
        "      break\n",
        "  #print(map[init_x - 1][init_y - 1])\n",
        "\n",
        "\n",
        "for i in range(10):\n",
        "  for j in range(10):\n",
        "    print(map[i][j], end=' ')\n",
        "  print()           \n",
        "  "
      ],
      "metadata": {
        "colab": {
          "base_uri": "https://localhost:8080/",
          "height": 572
        },
        "id": "SO8M_y-mxs73",
        "outputId": "85f658cf-c534-497f-9ea1-c3ab997c312c"
      },
      "execution_count": 90,
      "outputs": [
        {
          "output_type": "error",
          "ename": "KeyboardInterrupt",
          "evalue": "ignored",
          "traceback": [
            "\u001b[0;31m---------------------------------------------------------------------------\u001b[0m",
            "\u001b[0;31mKeyboardInterrupt\u001b[0m                         Traceback (most recent call last)",
            "\u001b[0;32m/usr/local/lib/python3.7/dist-packages/ipykernel/kernelbase.py\u001b[0m in \u001b[0;36m_input_request\u001b[0;34m(self, prompt, ident, parent, password)\u001b[0m\n\u001b[1;32m    728\u001b[0m             \u001b[0;32mtry\u001b[0m\u001b[0;34m:\u001b[0m\u001b[0;34m\u001b[0m\u001b[0;34m\u001b[0m\u001b[0m\n\u001b[0;32m--> 729\u001b[0;31m                 \u001b[0mident\u001b[0m\u001b[0;34m,\u001b[0m \u001b[0mreply\u001b[0m \u001b[0;34m=\u001b[0m \u001b[0mself\u001b[0m\u001b[0;34m.\u001b[0m\u001b[0msession\u001b[0m\u001b[0;34m.\u001b[0m\u001b[0mrecv\u001b[0m\u001b[0;34m(\u001b[0m\u001b[0mself\u001b[0m\u001b[0;34m.\u001b[0m\u001b[0mstdin_socket\u001b[0m\u001b[0;34m,\u001b[0m \u001b[0;36m0\u001b[0m\u001b[0;34m)\u001b[0m\u001b[0;34m\u001b[0m\u001b[0;34m\u001b[0m\u001b[0m\n\u001b[0m\u001b[1;32m    730\u001b[0m             \u001b[0;32mexcept\u001b[0m \u001b[0mException\u001b[0m\u001b[0;34m:\u001b[0m\u001b[0;34m\u001b[0m\u001b[0;34m\u001b[0m\u001b[0m\n",
            "\u001b[0;32m/usr/local/lib/python3.7/dist-packages/jupyter_client/session.py\u001b[0m in \u001b[0;36mrecv\u001b[0;34m(self, socket, mode, content, copy)\u001b[0m\n\u001b[1;32m    802\u001b[0m         \u001b[0;32mtry\u001b[0m\u001b[0;34m:\u001b[0m\u001b[0;34m\u001b[0m\u001b[0;34m\u001b[0m\u001b[0m\n\u001b[0;32m--> 803\u001b[0;31m             \u001b[0mmsg_list\u001b[0m \u001b[0;34m=\u001b[0m \u001b[0msocket\u001b[0m\u001b[0;34m.\u001b[0m\u001b[0mrecv_multipart\u001b[0m\u001b[0;34m(\u001b[0m\u001b[0mmode\u001b[0m\u001b[0;34m,\u001b[0m \u001b[0mcopy\u001b[0m\u001b[0;34m=\u001b[0m\u001b[0mcopy\u001b[0m\u001b[0;34m)\u001b[0m\u001b[0;34m\u001b[0m\u001b[0;34m\u001b[0m\u001b[0m\n\u001b[0m\u001b[1;32m    804\u001b[0m         \u001b[0;32mexcept\u001b[0m \u001b[0mzmq\u001b[0m\u001b[0;34m.\u001b[0m\u001b[0mZMQError\u001b[0m \u001b[0;32mas\u001b[0m \u001b[0me\u001b[0m\u001b[0;34m:\u001b[0m\u001b[0;34m\u001b[0m\u001b[0;34m\u001b[0m\u001b[0m\n",
            "\u001b[0;32m/usr/local/lib/python3.7/dist-packages/zmq/sugar/socket.py\u001b[0m in \u001b[0;36mrecv_multipart\u001b[0;34m(self, flags, copy, track)\u001b[0m\n\u001b[1;32m    624\u001b[0m         \"\"\"\n\u001b[0;32m--> 625\u001b[0;31m         \u001b[0mparts\u001b[0m \u001b[0;34m=\u001b[0m \u001b[0;34m[\u001b[0m\u001b[0mself\u001b[0m\u001b[0;34m.\u001b[0m\u001b[0mrecv\u001b[0m\u001b[0;34m(\u001b[0m\u001b[0mflags\u001b[0m\u001b[0;34m,\u001b[0m \u001b[0mcopy\u001b[0m\u001b[0;34m=\u001b[0m\u001b[0mcopy\u001b[0m\u001b[0;34m,\u001b[0m \u001b[0mtrack\u001b[0m\u001b[0;34m=\u001b[0m\u001b[0mtrack\u001b[0m\u001b[0;34m)\u001b[0m\u001b[0;34m]\u001b[0m\u001b[0;34m\u001b[0m\u001b[0;34m\u001b[0m\u001b[0m\n\u001b[0m\u001b[1;32m    626\u001b[0m         \u001b[0;31m# have first part already, only loop while more to receive\u001b[0m\u001b[0;34m\u001b[0m\u001b[0;34m\u001b[0m\u001b[0;34m\u001b[0m\u001b[0m\n",
            "\u001b[0;32mzmq/backend/cython/socket.pyx\u001b[0m in \u001b[0;36mzmq.backend.cython.socket.Socket.recv\u001b[0;34m()\u001b[0m\n",
            "\u001b[0;32mzmq/backend/cython/socket.pyx\u001b[0m in \u001b[0;36mzmq.backend.cython.socket.Socket.recv\u001b[0;34m()\u001b[0m\n",
            "\u001b[0;32mzmq/backend/cython/socket.pyx\u001b[0m in \u001b[0;36mzmq.backend.cython.socket._recv_copy\u001b[0;34m()\u001b[0m\n",
            "\u001b[0;32m/usr/local/lib/python3.7/dist-packages/zmq/backend/cython/checkrc.pxd\u001b[0m in \u001b[0;36mzmq.backend.cython.checkrc._check_rc\u001b[0;34m()\u001b[0m\n",
            "\u001b[0;31mKeyboardInterrupt\u001b[0m: ",
            "\nDuring handling of the above exception, another exception occurred:\n",
            "\u001b[0;31mKeyboardInterrupt\u001b[0m                         Traceback (most recent call last)",
            "\u001b[0;32m<ipython-input-90-0c9e565e4628>\u001b[0m in \u001b[0;36m<module>\u001b[0;34m()\u001b[0m\n\u001b[1;32m      1\u001b[0m \u001b[0;31m#6098 : [기초-리스트] 성실한 개미\u001b[0m\u001b[0;34m\u001b[0m\u001b[0;34m\u001b[0m\u001b[0;34m\u001b[0m\u001b[0m\n\u001b[1;32m      2\u001b[0m \u001b[0;34m\u001b[0m\u001b[0m\n\u001b[0;32m----> 3\u001b[0;31m \u001b[0mmap\u001b[0m \u001b[0;34m=\u001b[0m \u001b[0;34m[\u001b[0m\u001b[0mlist\u001b[0m\u001b[0;34m(\u001b[0m\u001b[0mmap\u001b[0m\u001b[0;34m(\u001b[0m\u001b[0mint\u001b[0m\u001b[0;34m,\u001b[0m \u001b[0minput\u001b[0m\u001b[0;34m(\u001b[0m\u001b[0;34m)\u001b[0m\u001b[0;34m.\u001b[0m\u001b[0msplit\u001b[0m\u001b[0;34m(\u001b[0m\u001b[0;34m)\u001b[0m\u001b[0;34m)\u001b[0m\u001b[0;34m)\u001b[0m \u001b[0;32mfor\u001b[0m \u001b[0m_\u001b[0m \u001b[0;32min\u001b[0m \u001b[0mrange\u001b[0m\u001b[0;34m(\u001b[0m\u001b[0;36m10\u001b[0m\u001b[0;34m)\u001b[0m\u001b[0;34m]\u001b[0m\u001b[0;34m\u001b[0m\u001b[0;34m\u001b[0m\u001b[0m\n\u001b[0m\u001b[1;32m      4\u001b[0m \u001b[0;34m\u001b[0m\u001b[0m\n\u001b[1;32m      5\u001b[0m \u001b[0minit_x\u001b[0m \u001b[0;34m=\u001b[0m \u001b[0;36m2\u001b[0m\u001b[0;34m\u001b[0m\u001b[0;34m\u001b[0m\u001b[0m\n",
            "\u001b[0;32m<ipython-input-90-0c9e565e4628>\u001b[0m in \u001b[0;36m<listcomp>\u001b[0;34m(.0)\u001b[0m\n\u001b[1;32m      1\u001b[0m \u001b[0;31m#6098 : [기초-리스트] 성실한 개미\u001b[0m\u001b[0;34m\u001b[0m\u001b[0;34m\u001b[0m\u001b[0;34m\u001b[0m\u001b[0m\n\u001b[1;32m      2\u001b[0m \u001b[0;34m\u001b[0m\u001b[0m\n\u001b[0;32m----> 3\u001b[0;31m \u001b[0mmap\u001b[0m \u001b[0;34m=\u001b[0m \u001b[0;34m[\u001b[0m\u001b[0mlist\u001b[0m\u001b[0;34m(\u001b[0m\u001b[0mmap\u001b[0m\u001b[0;34m(\u001b[0m\u001b[0mint\u001b[0m\u001b[0;34m,\u001b[0m \u001b[0minput\u001b[0m\u001b[0;34m(\u001b[0m\u001b[0;34m)\u001b[0m\u001b[0;34m.\u001b[0m\u001b[0msplit\u001b[0m\u001b[0;34m(\u001b[0m\u001b[0;34m)\u001b[0m\u001b[0;34m)\u001b[0m\u001b[0;34m)\u001b[0m \u001b[0;32mfor\u001b[0m \u001b[0m_\u001b[0m \u001b[0;32min\u001b[0m \u001b[0mrange\u001b[0m\u001b[0;34m(\u001b[0m\u001b[0;36m10\u001b[0m\u001b[0;34m)\u001b[0m\u001b[0;34m]\u001b[0m\u001b[0;34m\u001b[0m\u001b[0;34m\u001b[0m\u001b[0m\n\u001b[0m\u001b[1;32m      4\u001b[0m \u001b[0;34m\u001b[0m\u001b[0m\n\u001b[1;32m      5\u001b[0m \u001b[0minit_x\u001b[0m \u001b[0;34m=\u001b[0m \u001b[0;36m2\u001b[0m\u001b[0;34m\u001b[0m\u001b[0;34m\u001b[0m\u001b[0m\n",
            "\u001b[0;32m/usr/local/lib/python3.7/dist-packages/ipykernel/kernelbase.py\u001b[0m in \u001b[0;36mraw_input\u001b[0;34m(self, prompt)\u001b[0m\n\u001b[1;32m    702\u001b[0m             \u001b[0mself\u001b[0m\u001b[0;34m.\u001b[0m\u001b[0m_parent_ident\u001b[0m\u001b[0;34m,\u001b[0m\u001b[0;34m\u001b[0m\u001b[0;34m\u001b[0m\u001b[0m\n\u001b[1;32m    703\u001b[0m             \u001b[0mself\u001b[0m\u001b[0;34m.\u001b[0m\u001b[0m_parent_header\u001b[0m\u001b[0;34m,\u001b[0m\u001b[0;34m\u001b[0m\u001b[0;34m\u001b[0m\u001b[0m\n\u001b[0;32m--> 704\u001b[0;31m             \u001b[0mpassword\u001b[0m\u001b[0;34m=\u001b[0m\u001b[0;32mFalse\u001b[0m\u001b[0;34m,\u001b[0m\u001b[0;34m\u001b[0m\u001b[0;34m\u001b[0m\u001b[0m\n\u001b[0m\u001b[1;32m    705\u001b[0m         )\n\u001b[1;32m    706\u001b[0m \u001b[0;34m\u001b[0m\u001b[0m\n",
            "\u001b[0;32m/usr/local/lib/python3.7/dist-packages/ipykernel/kernelbase.py\u001b[0m in \u001b[0;36m_input_request\u001b[0;34m(self, prompt, ident, parent, password)\u001b[0m\n\u001b[1;32m    732\u001b[0m             \u001b[0;32mexcept\u001b[0m \u001b[0mKeyboardInterrupt\u001b[0m\u001b[0;34m:\u001b[0m\u001b[0;34m\u001b[0m\u001b[0;34m\u001b[0m\u001b[0m\n\u001b[1;32m    733\u001b[0m                 \u001b[0;31m# re-raise KeyboardInterrupt, to truncate traceback\u001b[0m\u001b[0;34m\u001b[0m\u001b[0;34m\u001b[0m\u001b[0;34m\u001b[0m\u001b[0m\n\u001b[0;32m--> 734\u001b[0;31m                 \u001b[0;32mraise\u001b[0m \u001b[0mKeyboardInterrupt\u001b[0m\u001b[0;34m\u001b[0m\u001b[0;34m\u001b[0m\u001b[0m\n\u001b[0m\u001b[1;32m    735\u001b[0m             \u001b[0;32melse\u001b[0m\u001b[0;34m:\u001b[0m\u001b[0;34m\u001b[0m\u001b[0;34m\u001b[0m\u001b[0m\n\u001b[1;32m    736\u001b[0m                 \u001b[0;32mbreak\u001b[0m\u001b[0;34m\u001b[0m\u001b[0;34m\u001b[0m\u001b[0m\n",
            "\u001b[0;31mKeyboardInterrupt\u001b[0m: "
          ]
        }
      ]
    },
    {
      "cell_type": "code",
      "source": [
        ""
      ],
      "metadata": {
        "id": "AeXxLSbnxs_H"
      },
      "execution_count": null,
      "outputs": []
    },
    {
      "cell_type": "code",
      "source": [
        ""
      ],
      "metadata": {
        "id": "g9K_HYl42w-7"
      },
      "execution_count": null,
      "outputs": []
    },
    {
      "cell_type": "code",
      "source": [
        ""
      ],
      "metadata": {
        "id": "w2AiI__q2xBj"
      },
      "execution_count": null,
      "outputs": []
    },
    {
      "cell_type": "code",
      "source": [
        ""
      ],
      "metadata": {
        "id": "k26qjkNg2xEs"
      },
      "execution_count": null,
      "outputs": []
    },
    {
      "cell_type": "code",
      "source": [
        ""
      ],
      "metadata": {
        "id": "qlfEFeWR2xHQ"
      },
      "execution_count": null,
      "outputs": []
    },
    {
      "cell_type": "code",
      "source": [
        ""
      ],
      "metadata": {
        "id": "iLCJoktd2xJg"
      },
      "execution_count": null,
      "outputs": []
    },
    {
      "cell_type": "code",
      "source": [
        ""
      ],
      "metadata": {
        "id": "eRdSCPhy2xL9"
      },
      "execution_count": null,
      "outputs": []
    }
  ]
}